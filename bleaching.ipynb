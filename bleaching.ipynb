{
 "cells": [
  {
   "cell_type": "code",
   "execution_count": 2,
   "metadata": {},
   "outputs": [],
   "source": [
    "using FFTW: fft, ifft, ifftshift"
   ]
  },
  {
   "cell_type": "code",
   "execution_count": 3,
   "metadata": {},
   "outputs": [
    {
     "data": {
      "text/plain": [
       "step! (generic function with 1 method)"
      ]
     },
     "execution_count": 3,
     "metadata": {},
     "output_type": "execute_result"
    }
   ],
   "source": [
    "function step!(c::Array{Float64, 2}, \n",
    "               ξ²::Array{Float64, 2}, \n",
    "               D::Float64, \n",
    "               δt::Float64)\n",
    "\n",
    "    dims = [1, 2]\n",
    "\n",
    "    ĉ = fft(c, dims)\n",
    "    ĉ = exp.(-D .* ξ² .* δt) .* ĉ\n",
    "    c = abs.(ifft(ĉ, dims))\n",
    "\n",
    "    return c\n",
    "\n",
    "end\n",
    "\n",
    "function step!(c::Array{Float64, 2}, \n",
    "               ξ²::Array{Float64, 2}, \n",
    "               D::Float64, \n",
    "               δt::Float64,\n",
    "               P)\n",
    "\n",
    "    dims = [1, 2]\n",
    "\n",
    "    ĉ = P * c\n",
    "    ĉ = exp.(-D .* ξ² .* δt) .* ĉ\n",
    "    c = abs.(P \\ ̂c)\n",
    "\n",
    "    return c\n",
    "\n",
    "end"
   ]
  },
  {
   "cell_type": "code",
   "execution_count": 7,
   "metadata": {},
   "outputs": [
    {
     "ename": "LoadError",
     "evalue": "syntax: line break in \":\" expression",
     "output_type": "error",
     "traceback": [
      "syntax: line break in \":\" expression",
      ""
     ]
    }
   ],
   "source": [
    "abstract type AbstractProblem end\n",
    "\n",
    "abstract type AbstractSolver end\n",
    "\n",
    "\n",
    "\n",
    "\n",
    "struct FRAPProblem{T, S} <: AbstractProblem:\n",
    "   \n",
    "    c_m::Array{T, 2}\n",
    "    c_im::Array{T, 2}\n",
    "    D::T\n",
    "    δt::T\n",
    "    ξ²::Array{T,2}\n",
    "    n_pixels::S\n",
    "    \n",
    "    function FRAPProblem(c₀::T, φₘ::T, D::T, δt::T, n_pixels::S) where {T, S}\n",
    "    \n",
    "        mobile   = φₘ c₀\n",
    "        immobile = (1-φₘ) c₀\n",
    "        fourier_grid = create_fourier_grid(n_pixels)\n",
    "        \n",
    "        \n",
    "        return new{T}(mobile, immobile, D, δt, fourier_grid, n_pixels)\n",
    "            \n",
    "    end\n",
    "    \n",
    "end\n",
    "\n",
    "\n",
    "\n",
    "function solve(problem::AbstractProblem, solver::AbstractSolver) end\n",
    "\n",
    "\n",
    "function evolve(p::FRAPProblem, T::Int64, masks)\n",
    "    \n",
    "    @unpack c_m, c_im, D, δt, ξ², n_pixels = p\n",
    "    \n",
    "    # Create initial arrays with grid size\n",
    "    c_m  = c_m .* ones((n_pixel, n_pixel))\n",
    "    c_im = c_im .* ones((n_pixel, n_pixel))\n",
    "    \n",
    "    # Pre-allocate solution\n",
    "    c = Array{Float64, 2}(undef, (n_pixel, n_pixel, T))\n",
    "    \n",
    "    # For each frame  \n",
    "    for t ∈ 1:T\n",
    "        \n",
    "        # Make make one step of length δt\n",
    "        c_m = c_m |> step!(ξ², D, δt)\n",
    "       \n",
    "        # Apply imaging bleach masks\n",
    "        c_m  = c_m |> bleach!(masks)\n",
    "        c_im = c_im |> bleach!(masks)\n",
    "        \n",
    "        # Save time evolution\n",
    "        @inbounds c[:, :, t] = c_m + c_im\n",
    "        \n",
    "    end\n",
    "    \n",
    "    return c\n",
    "    \n",
    "    \n",
    "end\n",
    "\n"
   ]
  },
  {
   "cell_type": "code",
   "execution_count": 8,
   "metadata": {},
   "outputs": [
    {
     "data": {
      "text/plain": [
       "create_fourier_grid (generic function with 1 method)"
      ]
     },
     "execution_count": 8,
     "metadata": {},
     "output_type": "execute_result"
    }
   ],
   "source": [
    "function create_fourier_grid(n_pixels::Int64)\n",
    "    # TODO: Check dimensions of grid\n",
    "    # It isn't centralized, but perhaps that is not a problem?\n",
    "\n",
    "    # Julia has no ndgrid or meshgrid function, out of principle\n",
    "    # it would seem. Not \"Julian\" enough.\n",
    "    x = range(-n_pixels ÷ 2, length=n_pixels)\n",
    "    y = range(-n_pixels ÷ 2, length=n_pixels)\n",
    "\n",
    "    # List comprehensions are very quick\n",
    "    X = [j for i in x, j in y]\n",
    "    Y = [i for i in x, j in y]\n",
    "\n",
    "    X *= (2π / n_pixels)\n",
    "    Y *= (2π / n_pixels)\n",
    "\n",
    "    # Centre the transform\n",
    "    ξ² = ifftshift(X.^2 + Y.^2)\n",
    "\n",
    "    return ξ²\n",
    "end"
   ]
  },
  {
   "cell_type": "code",
   "execution_count": null,
   "metadata": {},
   "outputs": [],
   "source": []
  }
 ],
 "metadata": {
  "kernelspec": {
   "display_name": "Julia 1.4.2",
   "language": "julia",
   "name": "julia-1.4"
  },
  "language_info": {
   "file_extension": ".jl",
   "mimetype": "application/julia",
   "name": "julia",
   "version": "1.4.2"
  }
 },
 "nbformat": 4,
 "nbformat_minor": 4
}
